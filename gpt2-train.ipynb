{
 "cells": [
  {
   "cell_type": "code",
   "execution_count": 1,
   "id": "a4a42c4c-4135-4e00-a74c-f6a976ab135d",
   "metadata": {},
   "outputs": [],
   "source": [
    "import math\n",
    "from dataclasses import dataclass\n",
    "import torch\n",
    "import torch.nn as nn\n",
    "from torch.nn import functional as F\n",
    "import time\n",
    "\n",
    "import inspect"
   ]
  },
  {
   "cell_type": "code",
   "execution_count": 2,
   "id": "82bce38e-2354-487a-9e17-552c847d185e",
   "metadata": {},
   "outputs": [],
   "source": [
    "class CasualSelfAttention(nn.Module):\n",
    "\n",
    "    def __init__(self, config):\n",
    "        super().__init__()\n",
    "        assert config.n_embd % config.n_head == 0\n",
    "\n",
    "        self.c_attn = nn.Linear(config.n_embd, 3 * config.n_embd)\n",
    "        self.c_proj = nn.Linear(config.n_embd, config.n_embd)\n",
    "\n",
    "        self.c_proj.NANOGPT_SCALE_INIT = 1\n",
    "        \n",
    "        self.n_head = config.n_head\n",
    "        self.n_embd = config.n_embd\n",
    "\n",
    "        self.register_buffer(\"bias\", torch.tril(torch.ones(config.block_size, config.block_size)).view(1, 1, config.block_size, config.block_size))\n",
    "\n",
    "    def forward(self, x):\n",
    "        B, T, C = x.size()\n",
    "\n",
    "        qkv = self.c_attn(x)\n",
    "        q, k, v = qkv.split(self.n_embd, dim=2)\n",
    "        k = k.view(B, T, self.n_head, C // self.n_head).transpose(1, 2)\n",
    "        q = q.view(B, T, self.n_head, C // self.n_head).transpose(1, 2)\n",
    "        v = v.view(B, T, self.n_head, C // self.n_head).transpose(1, 2)\n",
    "\n",
    "        #att = (q @ k.transpose(-2, -1)) * (1.0 / math.sqrt(k.size(-1)))\n",
    "        #att = att.masked_fill(self.bias[:, :, :T, :T] == 0, float('-inf'))\n",
    "        #att = F.softmax(att, dim=-1)\n",
    "        #y = att @ v\n",
    "\n",
    "        y = F.scaled_dot_product_attention(q, k, v, is_causal=True)\n",
    "        \n",
    "        y = y.transpose(1, 2).contiguous().view(B, T, C)\n",
    "        y = self.c_proj(y)\n",
    "        return y"
   ]
  },
  {
   "cell_type": "code",
   "execution_count": 3,
   "id": "593fa5d1-1ffc-4703-bb39-9ef74d729f45",
   "metadata": {},
   "outputs": [],
   "source": [
    "class MLP(nn.Module):\n",
    "\n",
    "    def __init__(self, config):\n",
    "        super().__init__()\n",
    "        self.c_fc = nn.Linear(config.n_embd, 4 * config.n_embd)\n",
    "        self.gelu = nn.GELU(approximate='tanh')\n",
    "        self.c_proj = nn.Linear(4 * config.n_embd, config.n_embd)\n",
    "\n",
    "        self.c_proj.NANOGPT_SCALE_INIT = 1\n",
    "        \n",
    "    def forward(self, x):\n",
    "        x = self.c_fc(x)\n",
    "        x = self.gelu(x)\n",
    "        x = self.c_proj(x)\n",
    "        return x"
   ]
  },
  {
   "cell_type": "code",
   "execution_count": 4,
   "id": "d0fd9e06-6869-488c-b4dc-d67fb632ff76",
   "metadata": {},
   "outputs": [],
   "source": [
    "class Block(nn.Module):\n",
    "\n",
    "    def __init__(self, config):\n",
    "        super().__init__()\n",
    "        self.ln_1 = nn.LayerNorm(config.n_embd)\n",
    "        self.attn = CasualSelfAttention(config)\n",
    "        self.ln_2 = nn.LayerNorm(config.n_embd)\n",
    "        self.mlp = MLP(config)\n",
    "\n",
    "    def forward(self, x):\n",
    "        x = x + self.attn(self.ln_1(x))\n",
    "        x = x + self.mlp(self.ln_2(x))\n",
    "        return x"
   ]
  },
  {
   "cell_type": "code",
   "execution_count": 5,
   "id": "2ba17f7e-059d-4bc7-a9a6-ca7177ce4526",
   "metadata": {},
   "outputs": [],
   "source": [
    "@dataclass\n",
    "class GPTConfig:\n",
    "    block_size: int = 1024\n",
    "    vocab_size: int = 50257\n",
    "    n_layer: int = 12\n",
    "    n_head: int = 12\n",
    "    n_embd: int = 768\n",
    "\n",
    "class GPT(nn.Module):\n",
    "\n",
    "    def __init__(self, config):\n",
    "        super().__init__()\n",
    "        self.config = config\n",
    "\n",
    "        self.transformer = nn.ModuleDict(dict(\n",
    "            wte = nn.Embedding(config.vocab_size, config.n_embd),\n",
    "            wpe = nn.Embedding(config.block_size, config.n_embd),\n",
    "            h = nn.ModuleList([Block(config) for _ in range(config.n_layer)]),\n",
    "            ln_f = nn.LayerNorm(config.n_embd),\n",
    "        ))\n",
    "        self.lm_head = nn.Linear(config.n_embd, config.vocab_size, bias=False)\n",
    "\n",
    "        # weight sharing scheme\n",
    "        self.transformer.wte.weight = self.lm_head.weight\n",
    "\n",
    "        self.apply(self._init_weights)\n",
    "        \n",
    "    def _init_weights(self, module):\n",
    "        if isinstance(module, nn.Linear):\n",
    "            std = 0.02\n",
    "            if hasattr(module, 'NANOGPT_SCALE_INIT'):\n",
    "                std *= (2 * self.config.n_layer) ** -0.5\n",
    "            torch.nn.init.normal_(module.weight, mean=0.0, std=std)\n",
    "            if module.bias is not None:\n",
    "                torch.nn.init.zeros_(module.bias)\n",
    "            elif isinstance(module, nn.Embedding):\n",
    "                torch.nn.init.normal_(module.weight, mean=0.0, std=0.02)\n",
    "\n",
    "    def forward(self, idx, targets=None):\n",
    "        B, T = idx.size()\n",
    "        assert T <= self.config.block_size, f\"Cannot forward sequence of length {T}, block size is only {self.config.block_size}\"\n",
    "\n",
    "        pos = torch.arange(0, T, dtype=torch.long, device=idx.device)\n",
    "        pos_emb = self.transformer.wpe(pos)\n",
    "        tok_emb = self.transformer.wte(idx)\n",
    "        x = tok_emb + pos_emb\n",
    "\n",
    "        for block in self.transformer.h:\n",
    "            x = block(x)\n",
    "\n",
    "        x = self.transformer.ln_f(x)\n",
    "        logits = self.lm_head(x)\n",
    "        loss = None\n",
    "        if targets is not None:\n",
    "            loss = F.cross_entropy(logits.view(-1, logits.size(-1)), targets.view(-1))\n",
    "        return logits, loss\n",
    "    \n",
    "    @classmethod\n",
    "    def from_pretrained(cls, model_type):\n",
    "        assert model_type in {'gpt2', 'gpt2-medium', 'gpt2-large', 'gpt2-xl'}\n",
    "        from transformers import GPT2LMHeadModel\n",
    "        print(\"loading weights from pretrained gpt: %s\" % model_type)\n",
    "\n",
    "        config_args = {\n",
    "            'gpt2': dict(n_layer=12, n_head=12, n_embd=768),\n",
    "            'gpt2-medium': dict(n_layer=24, n_head=16, n_embd=1024),\n",
    "            'gpt2-large': dict(n_layer=36, n_head=20, n_embd=1280),\n",
    "            'gpt2-xl': dict(n_layer=48, n_head=25, e_embd=1600),\n",
    "        }[model_type]\n",
    "        config_args['vocab_size'] = 50257\n",
    "        config_args['block_size'] = 1024\n",
    "\n",
    "        config = GPTConfig(**config_args)\n",
    "        model = GPT(config)\n",
    "        sd = model.state_dict()\n",
    "        sd_keys = sd.keys()\n",
    "        sd_keys = [k for k in sd_keys if not k.endswith('.attn.bias')]\n",
    "\n",
    "        model_hf = GPT2LMHeadModel.from_pretrained(model_type)\n",
    "        sd_hf = model_hf.state_dict()\n",
    "\n",
    "        sd_keys_hf = sd_hf.keys()\n",
    "        sd_keys_hf = [k for k in sd_keys_hf if not k.endswith('.attn.masked_bias')]\n",
    "        sd_keys_hf = [k for k in sd_keys_hf if not k.endswith('.attn.bias')]\n",
    "        transposed = ['attn.c_attn.weight', 'attn.c_proj.weight', 'mlp.c_fc.weight', 'mlp.c_proj.weight']\n",
    "\n",
    "        assert len(sd_keys_hf) == len(sd_keys), f\"mismatched keys: {len(sd_keys_hf)} != {len(sd_keys)}\"\n",
    "\n",
    "        for k in sd_keys_hf:\n",
    "            if any(k.endswith(w) for w in transposed):\n",
    "                assert sd_hf[k].shape[::-1] == sd[k].shape\n",
    "                with torch.no_grad():\n",
    "                    sd[k].copy_(sd_hf[k].t())\n",
    "            else:\n",
    "                assert sd_hf[k].shape == sd[k].shape\n",
    "                with torch.no_grad():\n",
    "                    sd[k].copy_(sd_hf[k])\n",
    "        return model\n",
    "\n",
    "    def configure_optimizers(self, weight_decay, learning_rate, device):\n",
    "        param_dict = {pn: p for pn, p in self.named_parameters()}\n",
    "        param_dict = {pn: p for pn, p in param_dict.items() if p.requires_grad}\n",
    "\n",
    "        decay_params = [p for n, p in param_dict.items() if p.dim() >= 2]\n",
    "        nodecay_params = [p for n, p in param_dict.items() if p.dim() < 2]\n",
    "        optim_groups = [\n",
    "            {'params': decay_params, 'weight_decay': weight_decay},\n",
    "            {'params': nodecay_params, 'weight_decay': 0.0}\n",
    "        ]\n",
    "        num_decay_params = sum(p.numel() for p in decay_params)\n",
    "        num_nodecay_params = sum(p.numel() for p in nodecay_params)\n",
    "\n",
    "        print(f'num decayed parameter tensors: {len(decay_params)}, with {num_decay_params:,} parameters')\n",
    "        print(f'num no-decayed parameter tensors: {len(nodecay_params)}, with {num_nodecay_params:,} parameters')\n",
    "\n",
    "        fused_available = 'fused' in inspect.signature(torch.optim.AdamW).parameters\n",
    "        use_fused = fused_available and 'cuda' in device\n",
    "\n",
    "        print(f'using fused AdamW: {use_fused}')\n",
    "        optimizer = torch.optim.AdamW(optim_groups, lr=learning_rate, betas=(0.9, 0.95), eps=1e-8, fused=use_fused)\n",
    "        return optimizer"
   ]
  },
  {
   "cell_type": "code",
   "execution_count": 6,
   "id": "2aa0eb7d-eb0d-4793-ab6c-764a74327c37",
   "metadata": {},
   "outputs": [
    {
     "name": "stdout",
     "output_type": "stream",
     "text": [
      "using device: cuda\n"
     ]
    }
   ],
   "source": [
    "device = 'cpu'\n",
    "if torch.cuda.is_available():\n",
    "    device = 'cuda'\n",
    "elif hasattr(torch.backends, 'mps') and torch.backends.mps.is_available():\n",
    "    device = 'mps'\n",
    "print(f'using device: {device}')\n",
    "\n",
    "torch.manual_seed(1337)\n",
    "if torch.cuda.is_available():\n",
    "    torch.cuda.manual_seed(1337)\n",
    "\n",
    "torch.set_float32_matmul_precision('high')"
   ]
  },
  {
   "cell_type": "markdown",
   "id": "689eb335-149c-4cdf-88fc-f4964bb068ce",
   "metadata": {},
   "source": [
    "## train"
   ]
  },
  {
   "cell_type": "code",
   "execution_count": 7,
   "id": "10664354-c3c0-4af4-9478-0ba8ab7c9f5d",
   "metadata": {},
   "outputs": [],
   "source": [
    "import tiktoken\n",
    "class DataLoaderLite:\n",
    "    def __init__(self, B, T, process_rank, num_processes):\n",
    "        self.B = B\n",
    "        self.T = T\n",
    "        self.process_rank = process_rank\n",
    "        self.num_processes = num_processes\n",
    "\n",
    "        with open('input.txt', 'r') as f:\n",
    "            text = f.read()\n",
    "        enc = tiktoken.get_encoding('gpt2')\n",
    "        tokens = enc.encode(text)\n",
    "        self.tokens = torch.tensor(tokens)\n",
    "        print(f'loaded {len(self.tokens)} tokens')\n",
    "        print(f\"1 epoch = {len(self.tokens) // (B * T)} batches\")\n",
    "\n",
    "        self.current_position = self.B * self.T * self.process_rank\n",
    "\n",
    "    def next_batch(self):\n",
    "        B, T = self.B, self.T\n",
    "        buf = self.tokens[self.current_position: self.current_position + B * T + 1]\n",
    "        x = (buf[:-1]).view(B, T)\n",
    "        y = (buf[1:]).view(B, T)\n",
    "        self.current_position += B * T * self.num_processes\n",
    "        if self.current_position + (B * T * self.num_processes + 1) > len(self.tokens):\n",
    "            self.current_position = self.B * self.T * self.process_rank\n",
    "        return x, y"
   ]
  },
  {
   "cell_type": "code",
   "execution_count": 8,
   "id": "7c7b42f2-7c54-4295-8e56-59106f9e5f7c",
   "metadata": {},
   "outputs": [
    {
     "name": "stdout",
     "output_type": "stream",
     "text": [
      "using device: cuda\n"
     ]
    }
   ],
   "source": [
    "from torch.distributed import init_process_group, destroy_process_group\n",
    "from torch.nn.parallel import DistributedDataParallel as DDP\n",
    "import torch.distributed as dist\n",
    "import os\n",
    "\n",
    "ddp = int(os.environ.get('RANK', -1)) != -1\n",
    "if ddp:\n",
    "    assert torch.cuda.is_available(), 'for now we need CUDA for DDP'\n",
    "    init_process_group(backend='nccl')\n",
    "    ddp_rank = int(os.environ['RANK'])\n",
    "    ddp_local_rank = int(os.environ['LOCAL_RANK'])\n",
    "    ddp_world_size = int(os.environ['WORLD_SIZE'])\n",
    "    device = f'cuda:{ddp_local_rank}'\n",
    "    torch.cuda.set_device(device)\n",
    "    master_process = ddp_rank == 0\n",
    "else:\n",
    "    ddp_rank = 0\n",
    "    ddp_local_rank = 0\n",
    "    ddp_world_size = 1\n",
    "    master_process = True\n",
    "    device = 'cpu'\n",
    "    if torch.cuda.is_available():\n",
    "        device = 'cuda'\n",
    "    elif hasattr(torch.backends, 'mps') and torch.backends.mps.is_available():\n",
    "        device = 'mps'\n",
    "    print(f'using device: {device}')"
   ]
  },
  {
   "cell_type": "code",
   "execution_count": 9,
   "id": "7d0bbfcb-612b-4d4b-8eb1-3ba26ebda9fb",
   "metadata": {},
   "outputs": [
    {
     "name": "stdout",
     "output_type": "stream",
     "text": [
      "total desired batch size: 8192\n",
      "=> calculated gradient accumulation steps: 8\n"
     ]
    }
   ],
   "source": [
    "B, T = 4, 256\n",
    "\n",
    "total_batch_size = 32 * 256\n",
    "\n",
    "assert total_batch_size % (B * T * ddp_world_size) == 0, 'make sure total_batch_size is divisible by B * T * ddp_world_size'\n",
    "grad_accum_steps = total_batch_size // (B * T * ddp_world_size)\n",
    "if master_process:\n",
    "    print(f'total desired batch size: {total_batch_size}')\n",
    "    print(f'=> calculated gradient accumulation steps: {grad_accum_steps}')\n",
    "\n",
    "model = GPT(GPTConfig(vocab_size=50304))\n",
    "model.to(device)\n",
    "model = torch.compile(model)"
   ]
  },
  {
   "cell_type": "code",
   "execution_count": 10,
   "id": "19c66444-1494-4d6a-bace-05e56fcbcf27",
   "metadata": {},
   "outputs": [],
   "source": [
    "if ddp:\n",
    "    model = DDP(model, device_ids=[ddp_local_rank])\n",
    "\n",
    "raw_model = model.module if ddp else model"
   ]
  },
  {
   "cell_type": "code",
   "execution_count": 11,
   "id": "88cc6730-708f-41e8-b125-e2431ea3540b",
   "metadata": {},
   "outputs": [],
   "source": [
    "max_lr = 6e-4\n",
    "min_lr = max_lr * 0.1\n",
    "warmup_steps = 10\n",
    "max_steps = 50\n",
    "\n",
    "def get_lr(it):\n",
    "    if it < warmup_steps:\n",
    "        return max_lr * (it+1) / warmup_steps\n",
    "    if it > max_steps:\n",
    "        return min_lr\n",
    "    decay_ratio = (it - warmup_steps) / (max_steps - warmup_steps)\n",
    "    assert 0 <= decay_ratio <=1\n",
    "    coeff = 0.5 * (1.0 + math.cos(math.pi * decay_ratio))\n",
    "    return min_lr + coeff * (max_lr - min_lr)"
   ]
  },
  {
   "cell_type": "code",
   "execution_count": 12,
   "id": "28f847de-ae85-454e-a2df-f42481aed32d",
   "metadata": {
    "scrolled": true
   },
   "outputs": [
    {
     "name": "stdout",
     "output_type": "stream",
     "text": [
      "num decayed parameter tensors: 50, with 124,354,560 parameters\n",
      "num no-decayed parameter tensors: 98, with 121,344 parameters\n",
      "using fused AdamW: True\n",
      "loaded 338025 tokens\n",
      "1 epoch = 330 batches\n",
      "0, loss: 10.969953, dt: 4.07488s, tok/sec: 2010.3676530551766, norm: 1.9267, lr 6.0000e-05\n",
      "1, loss: 10.505058, dt: 0.79932s, tok/sec: 10248.708571755824, norm: 2.1692, lr 1.2000e-04\n",
      "2, loss: 9.587049, dt: 0.80705s, tok/sec: 10150.563416098277, norm: 3.1095, lr 1.8000e-04\n",
      "3, loss: 9.269749, dt: 0.80337s, tok/sec: 10197.105486238848, norm: 6.4898, lr 2.4000e-04\n",
      "4, loss: 8.839516, dt: 0.80294s, tok/sec: 10202.519283680298, norm: 2.4957, lr 3.0000e-04\n",
      "5, loss: 8.710651, dt: 0.80401s, tok/sec: 10188.977425727542, norm: 2.9826, lr 3.6000e-04\n",
      "6, loss: 8.617510, dt: 0.80472s, tok/sec: 10179.98455451118, norm: 3.0335, lr 4.2000e-04\n",
      "7, loss: 8.104532, dt: 0.80423s, tok/sec: 10186.13506099721, norm: 2.3608, lr 4.8000e-04\n",
      "8, loss: 7.672428, dt: 0.80627s, tok/sec: 10160.354552943953, norm: 1.9140, lr 5.4000e-04\n",
      "9, loss: 7.561373, dt: 0.80646s, tok/sec: 10157.915508913668, norm: 3.9540, lr 6.0000e-04\n",
      "10, loss: 7.397072, dt: 0.80598s, tok/sec: 10164.009302683307, norm: 3.4073, lr 6.0000e-04\n",
      "11, loss: 7.156219, dt: 0.80502s, tok/sec: 10176.152546308362, norm: 1.8264, lr 5.9917e-04\n",
      "12, loss: 7.094214, dt: 0.80549s, tok/sec: 10170.185668867955, norm: 1.6199, lr 5.9668e-04\n",
      "13, loss: 6.886640, dt: 0.80600s, tok/sec: 10163.756751879984, norm: 1.5256, lr 5.9254e-04\n",
      "14, loss: 6.806795, dt: 0.80763s, tok/sec: 10143.287834220337, norm: 1.3543, lr 5.8679e-04\n",
      "15, loss: 6.629699, dt: 0.80702s, tok/sec: 10150.935266319319, norm: 1.3329, lr 5.7945e-04\n",
      "16, loss: 6.784829, dt: 0.80684s, tok/sec: 10153.148938609622, norm: 1.3463, lr 5.7057e-04\n",
      "17, loss: 6.829499, dt: 0.80821s, tok/sec: 10135.96885319312, norm: 1.2158, lr 5.6021e-04\n",
      "18, loss: 6.746960, dt: 0.80856s, tok/sec: 10131.575362274396, norm: 1.3262, lr 5.4843e-04\n",
      "19, loss: 6.607498, dt: 0.80942s, tok/sec: 10120.861672452726, norm: 1.1637, lr 5.3531e-04\n",
      "20, loss: 6.741543, dt: 0.80967s, tok/sec: 10117.651982512465, norm: 0.9845, lr 5.2092e-04\n",
      "21, loss: 6.606051, dt: 0.81067s, tok/sec: 10105.27636141402, norm: 1.5441, lr 5.0535e-04\n",
      "22, loss: 6.718283, dt: 0.81058s, tok/sec: 10106.337471296283, norm: 1.1686, lr 4.8870e-04\n",
      "23, loss: 6.578879, dt: 0.81107s, tok/sec: 10100.223543518156, norm: 1.2011, lr 4.7107e-04\n",
      "24, loss: 6.576060, dt: 0.81207s, tok/sec: 10087.851992821012, norm: 1.2141, lr 4.5258e-04\n",
      "25, loss: 6.624778, dt: 0.81271s, tok/sec: 10079.879359705697, norm: 1.0377, lr 4.3332e-04\n",
      "26, loss: 6.867201, dt: 0.81265s, tok/sec: 10080.54474317299, norm: 1.0401, lr 4.1343e-04\n",
      "27, loss: 6.730041, dt: 0.81328s, tok/sec: 10072.843503288943, norm: 0.9500, lr 3.9303e-04\n",
      "28, loss: 6.965115, dt: 0.81372s, tok/sec: 10067.321585105406, norm: 1.1056, lr 3.7224e-04\n",
      "29, loss: 6.763257, dt: 0.81495s, tok/sec: 10052.09763598374, norm: 0.7768, lr 3.5118e-04\n",
      "30, loss: 6.715849, dt: 0.81413s, tok/sec: 10062.230027375565, norm: 0.6762, lr 3.3000e-04\n",
      "31, loss: 6.760510, dt: 0.81600s, tok/sec: 10039.166008924874, norm: 1.0704, lr 3.0882e-04\n",
      "32, loss: 6.616602, dt: 0.81713s, tok/sec: 10025.378279426577, norm: 1.1599, lr 2.8776e-04\n",
      "33, loss: 6.863586, dt: 0.81886s, tok/sec: 10004.16019239812, norm: 1.1153, lr 2.6697e-04\n",
      "34, loss: 6.755746, dt: 0.81676s, tok/sec: 10029.893855709128, norm: 1.0450, lr 2.4657e-04\n",
      "35, loss: 6.690135, dt: 0.81733s, tok/sec: 10022.828176613146, norm: 0.8405, lr 2.2668e-04\n",
      "36, loss: 6.739954, dt: 0.81809s, tok/sec: 10013.624102125756, norm: 1.0880, lr 2.0742e-04\n",
      "37, loss: 6.780229, dt: 0.81880s, tok/sec: 10004.89427314443, norm: 1.0078, lr 1.8893e-04\n",
      "38, loss: 6.577457, dt: 0.81853s, tok/sec: 10008.198970103045, norm: 1.2004, lr 1.7130e-04\n",
      "39, loss: 6.662800, dt: 0.81861s, tok/sec: 10007.210829305857, norm: 1.1573, lr 1.5465e-04\n",
      "40, loss: 6.800313, dt: 0.81883s, tok/sec: 10004.573827823933, norm: 0.9964, lr 1.3908e-04\n",
      "41, loss: 6.604901, dt: 0.81929s, tok/sec: 9998.937348148713, norm: 0.8254, lr 1.2469e-04\n",
      "42, loss: 6.580707, dt: 0.81993s, tok/sec: 9991.049384539692, norm: 0.8490, lr 1.1157e-04\n",
      "43, loss: 6.458070, dt: 0.81994s, tok/sec: 9990.938989093045, norm: 0.9660, lr 9.9787e-05\n",
      "44, loss: 6.359593, dt: 0.82056s, tok/sec: 9983.420413286534, norm: 1.0339, lr 8.9428e-05\n",
      "45, loss: 6.376564, dt: 0.82022s, tok/sec: 9987.60503430286, norm: 0.9846, lr 8.0553e-05\n",
      "46, loss: 6.469541, dt: 0.82018s, tok/sec: 9988.023108670868, norm: 1.3411, lr 7.3215e-05\n",
      "47, loss: 6.397961, dt: 0.82089s, tok/sec: 9979.445081702246, norm: 1.4769, lr 6.7460e-05\n",
      "48, loss: 6.340087, dt: 0.82049s, tok/sec: 9984.247192780835, norm: 1.3617, lr 6.3324e-05\n",
      "49, loss: 6.231664, dt: 0.82240s, tok/sec: 9961.07970344979, norm: 1.0567, lr 6.0832e-05\n"
     ]
    }
   ],
   "source": [
    "#optimizer = torch.optim.AdamW(model.parameters(), lr=3e-4, betas=(0.9, 0.95), eps=1e-8)\n",
    "optimizer = raw_model.configure_optimizers(weight_decay=0.1, learning_rate=6e-4, device=device)\n",
    "\n",
    "train_loader = DataLoaderLite(B = B, T = T, process_rank=ddp_rank, num_processes=ddp_world_size)\n",
    "\n",
    "for step in range(max_steps):\n",
    "    t0 = time.time()\n",
    "\n",
    "    optimizer.zero_grad()\n",
    "    loss_accum = 0.0\n",
    "    for micro_step in range(grad_accum_steps):\n",
    "        x, y = train_loader.next_batch()\n",
    "        x, y = x.to(device), y.to(device)\n",
    "        with torch.autocast(device_type=device, dtype=torch.bfloat16):\n",
    "            logits, loss = model(x, y)\n",
    "        loss = loss / grad_accum_steps\n",
    "        loss_accum += loss.detach()\n",
    "        if ddp:\n",
    "            model.required_backward_grad_sync = (micro_step == grad_accum_step -1)\n",
    "        loss.backward()\n",
    "        \n",
    "    if ddp:\n",
    "        dist.all_reduce(loss_accum, op=dist.ReduceOp.AVG)\n",
    "    \n",
    "    norm = torch.nn.utils.clip_grad_norm_(model.parameters(), 1.0)\n",
    "    #import code; code.interact(local=locals())\n",
    "    lr = get_lr(step)\n",
    "    for param_group in optimizer.param_groups:\n",
    "        param_group['lr'] = lr\n",
    "    optimizer.step()\n",
    "    torch.cuda.synchronize()\n",
    "    t1 = time.time()\n",
    "    dt = (t1 - t0)\n",
    "    tokens_processed = train_loader.B *  train_loader.T * grad_accum_steps * ddp_world_size\n",
    "    tokens_per_sec = tokens_processed / dt\n",
    "    if master_process:\n",
    "        print(f\"{step}, loss: {loss_accum.item():.6f}, dt: {dt:.5f}s, tok/sec: {tokens_per_sec}, norm: {norm:.4f}, lr {lr:.4e}\")\n",
    "\n",
    "if ddp:\n",
    "    destroy_process_group()"
   ]
  },
  {
   "cell_type": "markdown",
   "id": "bfdc34ea-1a2b-4be0-b362-bf4ac660c742",
   "metadata": {
    "scrolled": true
   },
   "source": [
    "## to run in parallel\n",
    "```bash\n",
    "torchrun --standalone --nproc_per_node=1 gpt2-train.py\n",
    "```"
   ]
  },
  {
   "cell_type": "code",
   "execution_count": 13,
   "id": "9c2e51c1-fd51-490d-b9e9-e49404845e68",
   "metadata": {},
   "outputs": [
    {
     "ename": "SystemExit",
     "evalue": "0",
     "output_type": "error",
     "traceback": [
      "An exception has occurred, use %tb to see the full traceback.\n",
      "\u001b[0;31mSystemExit\u001b[0m\u001b[0;31m:\u001b[0m 0\n"
     ]
    },
    {
     "name": "stderr",
     "output_type": "stream",
     "text": [
      "/usr/lib/python3.13/site-packages/IPython/core/interactiveshell.py:3587: UserWarning: To exit: use 'exit', 'quit', or Ctrl-D.\n",
      "  warn(\"To exit: use 'exit', 'quit', or Ctrl-D.\", stacklevel=1)\n"
     ]
    }
   ],
   "source": [
    "import sys\n",
    "sys.exit(0)"
   ]
  },
  {
   "cell_type": "markdown",
   "id": "fe1be0ce-4820-46e1-959b-242aff17ef13",
   "metadata": {},
   "source": [
    "## running the model"
   ]
  },
  {
   "cell_type": "code",
   "execution_count": null,
   "id": "7ce8b23c-e139-4564-982e-6d4a59236482",
   "metadata": {
    "editable": true,
    "slideshow": {
     "slide_type": ""
    },
    "tags": []
   },
   "outputs": [],
   "source": [
    "#model = GPT.from_pretrained('gpt2')\n",
    "#model.eval()\n",
    "#model.to(device)"
   ]
  },
  {
   "cell_type": "code",
   "execution_count": null,
   "id": "5a002834-e4ae-41f1-bca7-87c8a047fc89",
   "metadata": {},
   "outputs": [],
   "source": [
    "num_return_sequences = 5\n",
    "max_length = 30"
   ]
  },
  {
   "cell_type": "code",
   "execution_count": null,
   "id": "fb4503ce-87c8-4006-9893-0c2cde4bdfa2",
   "metadata": {},
   "outputs": [],
   "source": [
    "import tiktoken\n",
    "enc = tiktoken.get_encoding('gpt2')\n",
    "tokens = enc.encode(\"Hello, I'm a language model,\")\n",
    "tokens = torch.tensor(tokens, dtype=torch.long)\n",
    "tokens = tokens.unsqueeze(0).repeat(num_return_sequences, 1)\n",
    "x = tokens.to(device)"
   ]
  },
  {
   "cell_type": "code",
   "execution_count": null,
   "id": "eb5ae6fd-fcfe-4b28-b243-d32dbd70a289",
   "metadata": {},
   "outputs": [],
   "source": [
    "torch.manual_seed(42)\n",
    "torch.cuda.manual_seed(42)\n",
    "\n",
    "while x.size(1) < max_length:\n",
    "    with torch.no_grad():\n",
    "        logits = model(x)\n",
    "        logits = logits[:, -1, :]\n",
    "        probs = F.softmax(logits, dim=-1)\n",
    "        topk_probs, topk_indices = torch.topk(probs, 50, dim=-1)\n",
    "        ix = torch.multinomial(topk_probs, 1)\n",
    "        xcol = torch.gather(topk_indices, -1, ix)\n",
    "        x = torch.cat((x, xcol), dim=1)"
   ]
  },
  {
   "cell_type": "code",
   "execution_count": null,
   "id": "ee05f70b-8eca-4079-8961-c69a68599673",
   "metadata": {},
   "outputs": [],
   "source": [
    "for i in range(num_return_sequences):\n",
    "    tokens = x[i, :max_length].tolist()\n",
    "    decoded = enc.decode(tokens)\n",
    "    print(\">\", decoded)"
   ]
  }
 ],
 "metadata": {
  "kernelspec": {
   "display_name": "Python 3 (ipykernel)",
   "language": "python",
   "name": "python3"
  },
  "language_info": {
   "codemirror_mode": {
    "name": "ipython",
    "version": 3
   },
   "file_extension": ".py",
   "mimetype": "text/x-python",
   "name": "python",
   "nbconvert_exporter": "python",
   "pygments_lexer": "ipython3",
   "version": "3.13.5"
  }
 },
 "nbformat": 4,
 "nbformat_minor": 5
}
